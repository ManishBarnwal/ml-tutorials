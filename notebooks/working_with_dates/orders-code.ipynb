{
 "cells": [
  {
   "cell_type": "code",
   "execution_count": 1,
   "metadata": {},
   "outputs": [],
   "source": [
    "%matplotlib inline"
   ]
  },
  {
   "cell_type": "code",
   "execution_count": 2,
   "metadata": {},
   "outputs": [],
   "source": [
    "from IPython.core.interactiveshell import InteractiveShell\n",
    "InteractiveShell.ast_node_interactivity = 'all'"
   ]
  },
  {
   "cell_type": "code",
   "execution_count": 43,
   "metadata": {},
   "outputs": [],
   "source": [
    "import pandas as pd\n",
    "import numpy as np\n",
    "\n",
    "import matplotlib.pyplot as plt\n",
    "import seaborn as sns\n",
    "sns.set_style(\"whitegrid\")"
   ]
  },
  {
   "cell_type": "code",
   "execution_count": 4,
   "metadata": {},
   "outputs": [],
   "source": [
    "from datetime import datetime"
   ]
  },
  {
   "cell_type": "code",
   "execution_count": 5,
   "metadata": {},
   "outputs": [
    {
     "name": "stdout",
     "output_type": "stream",
     "text": [
      "/Users/manishb-imac/Documents/personal-repos/ml-tutorials/notebooks/working_with_dates\r\n"
     ]
    }
   ],
   "source": [
    "!pwd"
   ]
  },
  {
   "cell_type": "code",
   "execution_count": 6,
   "metadata": {},
   "outputs": [
    {
     "name": "stdout",
     "output_type": "stream",
     "text": [
      "orders-code.ipynb orders_data.csv\r\n"
     ]
    }
   ],
   "source": [
    "!ls"
   ]
  },
  {
   "cell_type": "code",
   "execution_count": 7,
   "metadata": {},
   "outputs": [
    {
     "name": "stdout",
     "output_type": "stream",
     "text": [
      "customer_id,First Time,Recent Time,# of Orders,# of Orders in last 7 days,# of Orders in last 4 weeks,Amount,Amount in last 7 days,Amount in last 4 weeks,Avg_DistanceFromResturant,Avg_DeliveryTime\r",
      "\r\n",
      "1269647,6/29/15 10:57,12/10/15 2:18,212,6,43,138808,4291,26853,1.6,51\r",
      "\r\n",
      "167631,07/04/15 15:39,12/15/15 14:42,211,8,19,56404,1925,4177,2.2,42\r",
      "\r\n",
      "301524,6/26/15 9:56,12/09/15 20:45,189,9,33,36020,1772,6404,2.5,57\r",
      "\r\n",
      "1268254,07/01/15 1:51,12/14/15 1:43,184,6,37,32489,975,7110,3.1,55\r",
      "\r\n"
     ]
    }
   ],
   "source": [
    "!head -5 orders_data.csv"
   ]
  },
  {
   "cell_type": "code",
   "execution_count": 8,
   "metadata": {},
   "outputs": [
    {
     "data": {
      "text/html": [
       "<div>\n",
       "<style scoped>\n",
       "    .dataframe tbody tr th:only-of-type {\n",
       "        vertical-align: middle;\n",
       "    }\n",
       "\n",
       "    .dataframe tbody tr th {\n",
       "        vertical-align: top;\n",
       "    }\n",
       "\n",
       "    .dataframe thead th {\n",
       "        text-align: right;\n",
       "    }\n",
       "</style>\n",
       "<table border=\"1\" class=\"dataframe\">\n",
       "  <thead>\n",
       "    <tr style=\"text-align: right;\">\n",
       "      <th></th>\n",
       "      <th>customer_id</th>\n",
       "      <th>First Time</th>\n",
       "      <th>Recent Time</th>\n",
       "      <th># of Orders</th>\n",
       "      <th># of Orders in last 7 days</th>\n",
       "      <th># of Orders in last 4 weeks</th>\n",
       "      <th>Amount</th>\n",
       "      <th>Amount in last 7 days</th>\n",
       "      <th>Amount in last 4 weeks</th>\n",
       "      <th>Avg_DistanceFromResturant</th>\n",
       "      <th>Avg_DeliveryTime</th>\n",
       "    </tr>\n",
       "  </thead>\n",
       "  <tbody>\n",
       "    <tr>\n",
       "      <th>0</th>\n",
       "      <td>1269647</td>\n",
       "      <td>6/29/15 10:57</td>\n",
       "      <td>12/10/15 2:18</td>\n",
       "      <td>212</td>\n",
       "      <td>6.0</td>\n",
       "      <td>43.0</td>\n",
       "      <td>138808</td>\n",
       "      <td>4291</td>\n",
       "      <td>26853</td>\n",
       "      <td>1.6</td>\n",
       "      <td>51</td>\n",
       "    </tr>\n",
       "    <tr>\n",
       "      <th>1</th>\n",
       "      <td>167631</td>\n",
       "      <td>07/04/15 15:39</td>\n",
       "      <td>12/15/15 14:42</td>\n",
       "      <td>211</td>\n",
       "      <td>8.0</td>\n",
       "      <td>19.0</td>\n",
       "      <td>56404</td>\n",
       "      <td>1925</td>\n",
       "      <td>4177</td>\n",
       "      <td>2.2</td>\n",
       "      <td>42</td>\n",
       "    </tr>\n",
       "    <tr>\n",
       "      <th>2</th>\n",
       "      <td>301524</td>\n",
       "      <td>6/26/15 9:56</td>\n",
       "      <td>12/09/15 20:45</td>\n",
       "      <td>189</td>\n",
       "      <td>9.0</td>\n",
       "      <td>33.0</td>\n",
       "      <td>36020</td>\n",
       "      <td>1772</td>\n",
       "      <td>6404</td>\n",
       "      <td>2.5</td>\n",
       "      <td>57</td>\n",
       "    </tr>\n",
       "    <tr>\n",
       "      <th>3</th>\n",
       "      <td>1268254</td>\n",
       "      <td>07/01/15 1:51</td>\n",
       "      <td>12/14/15 1:43</td>\n",
       "      <td>184</td>\n",
       "      <td>6.0</td>\n",
       "      <td>37.0</td>\n",
       "      <td>32489</td>\n",
       "      <td>975</td>\n",
       "      <td>7110</td>\n",
       "      <td>3.1</td>\n",
       "      <td>55</td>\n",
       "    </tr>\n",
       "    <tr>\n",
       "      <th>4</th>\n",
       "      <td>357161</td>\n",
       "      <td>07/11/15 18:34</td>\n",
       "      <td>12/19/15 23:26</td>\n",
       "      <td>182</td>\n",
       "      <td>4.0</td>\n",
       "      <td>23.0</td>\n",
       "      <td>85150</td>\n",
       "      <td>1738</td>\n",
       "      <td>9958</td>\n",
       "      <td>2.4</td>\n",
       "      <td>36</td>\n",
       "    </tr>\n",
       "  </tbody>\n",
       "</table>\n",
       "</div>"
      ],
      "text/plain": [
       "   customer_id      First Time     Recent Time  # of Orders  \\\n",
       "0      1269647   6/29/15 10:57   12/10/15 2:18          212   \n",
       "1       167631  07/04/15 15:39  12/15/15 14:42          211   \n",
       "2       301524    6/26/15 9:56  12/09/15 20:45          189   \n",
       "3      1268254   07/01/15 1:51   12/14/15 1:43          184   \n",
       "4       357161  07/11/15 18:34  12/19/15 23:26          182   \n",
       "\n",
       "   # of Orders in last 7 days  # of Orders in last 4 weeks  Amount  \\\n",
       "0                         6.0                         43.0  138808   \n",
       "1                         8.0                         19.0   56404   \n",
       "2                         9.0                         33.0   36020   \n",
       "3                         6.0                         37.0   32489   \n",
       "4                         4.0                         23.0   85150   \n",
       "\n",
       "   Amount in last 7 days  Amount in last 4 weeks  Avg_DistanceFromResturant  \\\n",
       "0                   4291                   26853                        1.6   \n",
       "1                   1925                    4177                        2.2   \n",
       "2                   1772                    6404                        2.5   \n",
       "3                    975                    7110                        3.1   \n",
       "4                   1738                    9958                        2.4   \n",
       "\n",
       "   Avg_DeliveryTime  \n",
       "0                51  \n",
       "1                42  \n",
       "2                57  \n",
       "3                55  \n",
       "4                36  "
      ]
     },
     "execution_count": 8,
     "metadata": {},
     "output_type": "execute_result"
    }
   ],
   "source": [
    "raw_file = pd.read_csv('orders_data.csv')\n",
    "raw_file.head()"
   ]
  },
  {
   "cell_type": "code",
   "execution_count": 9,
   "metadata": {},
   "outputs": [
    {
     "data": {
      "text/plain": [
       "(10000, 11)"
      ]
     },
     "execution_count": 9,
     "metadata": {},
     "output_type": "execute_result"
    }
   ],
   "source": [
    "raw_file.shape"
   ]
  },
  {
   "cell_type": "code",
   "execution_count": 10,
   "metadata": {},
   "outputs": [],
   "source": [
    "# edit the column names\n",
    "raw_file.columns = [i.lower().replace(' ', '_').replace('#', 'no.') for i in raw_file.columns]"
   ]
  },
  {
   "cell_type": "code",
   "execution_count": 11,
   "metadata": {},
   "outputs": [
    {
     "data": {
      "text/plain": [
       "customer_id                        int64\n",
       "first_time                        object\n",
       "recent_time                       object\n",
       "no._of_orders                      int64\n",
       "no._of_orders_in_last_7_days     float64\n",
       "no._of_orders_in_last_4_weeks    float64\n",
       "amount                             int64\n",
       "amount_in_last_7_days              int64\n",
       "amount_in_last_4_weeks             int64\n",
       "avg_distancefromresturant        float64\n",
       "avg_deliverytime                   int64\n",
       "dtype: object"
      ]
     },
     "execution_count": 11,
     "metadata": {},
     "output_type": "execute_result"
    }
   ],
   "source": [
    "raw_file.dtypes"
   ]
  },
  {
   "cell_type": "code",
   "execution_count": 12,
   "metadata": {},
   "outputs": [],
   "source": [
    "# converting to datetime type using to_datetime function in pandas\n",
    "raw_file['first_time'] = pd.to_datetime(raw_file['first_time'])\n",
    "raw_file['recent_time'] = pd.to_datetime(raw_file['recent_time'])"
   ]
  },
  {
   "cell_type": "code",
   "execution_count": 13,
   "metadata": {},
   "outputs": [
    {
     "data": {
      "text/plain": [
       "Timestamp('2015-06-05 17:21:00')"
      ]
     },
     "execution_count": 13,
     "metadata": {},
     "output_type": "execute_result"
    },
    {
     "data": {
      "text/plain": [
       "Timestamp('2016-01-07 12:42:00')"
      ]
     },
     "execution_count": 13,
     "metadata": {},
     "output_type": "execute_result"
    }
   ],
   "source": [
    "min(raw_file.first_time)\n",
    "max(raw_file.first_time)"
   ]
  },
  {
   "cell_type": "code",
   "execution_count": 14,
   "metadata": {},
   "outputs": [
    {
     "data": {
      "text/plain": [
       "customer_id                         0\n",
       "first_time                          0\n",
       "recent_time                         0\n",
       "no._of_orders                       0\n",
       "no._of_orders_in_last_7_days     8077\n",
       "no._of_orders_in_last_4_weeks    5659\n",
       "amount                              0\n",
       "amount_in_last_7_days               0\n",
       "amount_in_last_4_weeks              0\n",
       "avg_distancefromresturant           0\n",
       "avg_deliverytime                    0\n",
       "dtype: int64"
      ]
     },
     "execution_count": 14,
     "metadata": {},
     "output_type": "execute_result"
    }
   ],
   "source": [
    "raw_file.isna().sum() \n",
    "# no. of order for last 7 days and last 4 weeks are missing in huge percent"
   ]
  },
  {
   "cell_type": "code",
   "execution_count": 15,
   "metadata": {},
   "outputs": [
    {
     "data": {
      "text/html": [
       "<div>\n",
       "<style scoped>\n",
       "    .dataframe tbody tr th:only-of-type {\n",
       "        vertical-align: middle;\n",
       "    }\n",
       "\n",
       "    .dataframe tbody tr th {\n",
       "        vertical-align: top;\n",
       "    }\n",
       "\n",
       "    .dataframe thead th {\n",
       "        text-align: right;\n",
       "    }\n",
       "</style>\n",
       "<table border=\"1\" class=\"dataframe\">\n",
       "  <thead>\n",
       "    <tr style=\"text-align: right;\">\n",
       "      <th></th>\n",
       "      <th>first_time</th>\n",
       "      <th>recent_time</th>\n",
       "    </tr>\n",
       "  </thead>\n",
       "  <tbody>\n",
       "    <tr>\n",
       "      <th>0</th>\n",
       "      <td>2015-06-29 10:57:00</td>\n",
       "      <td>2015-12-10 02:18:00</td>\n",
       "    </tr>\n",
       "    <tr>\n",
       "      <th>1</th>\n",
       "      <td>2015-07-04 15:39:00</td>\n",
       "      <td>2015-12-15 14:42:00</td>\n",
       "    </tr>\n",
       "    <tr>\n",
       "      <th>2</th>\n",
       "      <td>2015-06-26 09:56:00</td>\n",
       "      <td>2015-12-09 20:45:00</td>\n",
       "    </tr>\n",
       "    <tr>\n",
       "      <th>3</th>\n",
       "      <td>2015-07-01 01:51:00</td>\n",
       "      <td>2015-12-14 01:43:00</td>\n",
       "    </tr>\n",
       "    <tr>\n",
       "      <th>4</th>\n",
       "      <td>2015-07-11 18:34:00</td>\n",
       "      <td>2015-12-19 23:26:00</td>\n",
       "    </tr>\n",
       "  </tbody>\n",
       "</table>\n",
       "</div>"
      ],
      "text/plain": [
       "           first_time         recent_time\n",
       "0 2015-06-29 10:57:00 2015-12-10 02:18:00\n",
       "1 2015-07-04 15:39:00 2015-12-15 14:42:00\n",
       "2 2015-06-26 09:56:00 2015-12-09 20:45:00\n",
       "3 2015-07-01 01:51:00 2015-12-14 01:43:00\n",
       "4 2015-07-11 18:34:00 2015-12-19 23:26:00"
      ]
     },
     "execution_count": 15,
     "metadata": {},
     "output_type": "execute_result"
    }
   ],
   "source": [
    "# let us subset data to include only date columns as we only plan to work on dates column\n",
    "raw_data = raw_file.loc[:, ['first_time', 'recent_time']].copy(deep=True)\n",
    "raw_data.head()"
   ]
  },
  {
   "cell_type": "code",
   "execution_count": 16,
   "metadata": {},
   "outputs": [
    {
     "data": {
      "text/html": [
       "<div>\n",
       "<style scoped>\n",
       "    .dataframe tbody tr th:only-of-type {\n",
       "        vertical-align: middle;\n",
       "    }\n",
       "\n",
       "    .dataframe tbody tr th {\n",
       "        vertical-align: top;\n",
       "    }\n",
       "\n",
       "    .dataframe thead th {\n",
       "        text-align: right;\n",
       "    }\n",
       "</style>\n",
       "<table border=\"1\" class=\"dataframe\">\n",
       "  <thead>\n",
       "    <tr style=\"text-align: right;\">\n",
       "      <th></th>\n",
       "      <th>first_time</th>\n",
       "      <th>recent_time</th>\n",
       "      <th>membership_days</th>\n",
       "    </tr>\n",
       "  </thead>\n",
       "  <tbody>\n",
       "    <tr>\n",
       "      <th>0</th>\n",
       "      <td>2015-06-29 10:57:00</td>\n",
       "      <td>2015-12-10 02:18:00</td>\n",
       "      <td>163</td>\n",
       "    </tr>\n",
       "    <tr>\n",
       "      <th>1</th>\n",
       "      <td>2015-07-04 15:39:00</td>\n",
       "      <td>2015-12-15 14:42:00</td>\n",
       "      <td>163</td>\n",
       "    </tr>\n",
       "    <tr>\n",
       "      <th>2</th>\n",
       "      <td>2015-06-26 09:56:00</td>\n",
       "      <td>2015-12-09 20:45:00</td>\n",
       "      <td>166</td>\n",
       "    </tr>\n",
       "    <tr>\n",
       "      <th>3</th>\n",
       "      <td>2015-07-01 01:51:00</td>\n",
       "      <td>2015-12-14 01:43:00</td>\n",
       "      <td>165</td>\n",
       "    </tr>\n",
       "    <tr>\n",
       "      <th>4</th>\n",
       "      <td>2015-07-11 18:34:00</td>\n",
       "      <td>2015-12-19 23:26:00</td>\n",
       "      <td>161</td>\n",
       "    </tr>\n",
       "  </tbody>\n",
       "</table>\n",
       "</div>"
      ],
      "text/plain": [
       "           first_time         recent_time  membership_days\n",
       "0 2015-06-29 10:57:00 2015-12-10 02:18:00              163\n",
       "1 2015-07-04 15:39:00 2015-12-15 14:42:00              163\n",
       "2 2015-06-26 09:56:00 2015-12-09 20:45:00              166\n",
       "3 2015-07-01 01:51:00 2015-12-14 01:43:00              165\n",
       "4 2015-07-11 18:34:00 2015-12-19 23:26:00              161"
      ]
     },
     "execution_count": 16,
     "metadata": {},
     "output_type": "execute_result"
    }
   ],
   "source": [
    "# create a new feature by taking the difference between the date columns\n",
    "date_diff = raw_data.recent_time - raw_data.first_time\n",
    "raw_data['membership_days'] = date_diff.apply(func = lambda x: x.days)\n",
    "raw_data.head()"
   ]
  },
  {
   "cell_type": "code",
   "execution_count": 17,
   "metadata": {},
   "outputs": [],
   "source": [
    "# extract just the first order date\n",
    "raw_data['first_order_date'] = raw_data['first_time'].apply(func= lambda x: str(x).split(' ')[0])\n",
    "\n",
    "# extract the most recent-order date and time\n",
    "raw_data['recent_order_date'] = raw_data['recent_time'].apply(func= lambda x: str(x).split(' ')[0])\n",
    "raw_data['recent_order_time'] = raw_data['recent_time'].apply(func= lambda x: str(x).split(' ')[1])\n"
   ]
  },
  {
   "cell_type": "code",
   "execution_count": 18,
   "metadata": {},
   "outputs": [
    {
     "data": {
      "text/html": [
       "<div>\n",
       "<style scoped>\n",
       "    .dataframe tbody tr th:only-of-type {\n",
       "        vertical-align: middle;\n",
       "    }\n",
       "\n",
       "    .dataframe tbody tr th {\n",
       "        vertical-align: top;\n",
       "    }\n",
       "\n",
       "    .dataframe thead th {\n",
       "        text-align: right;\n",
       "    }\n",
       "</style>\n",
       "<table border=\"1\" class=\"dataframe\">\n",
       "  <thead>\n",
       "    <tr style=\"text-align: right;\">\n",
       "      <th></th>\n",
       "      <th>first_time</th>\n",
       "      <th>recent_time</th>\n",
       "      <th>membership_days</th>\n",
       "      <th>first_order_date</th>\n",
       "      <th>recent_order_date</th>\n",
       "      <th>recent_order_time</th>\n",
       "    </tr>\n",
       "  </thead>\n",
       "  <tbody>\n",
       "    <tr>\n",
       "      <th>0</th>\n",
       "      <td>2015-06-29 10:57:00</td>\n",
       "      <td>2015-12-10 02:18:00</td>\n",
       "      <td>163</td>\n",
       "      <td>2015-06-29</td>\n",
       "      <td>2015-12-10</td>\n",
       "      <td>02:18:00</td>\n",
       "    </tr>\n",
       "    <tr>\n",
       "      <th>1</th>\n",
       "      <td>2015-07-04 15:39:00</td>\n",
       "      <td>2015-12-15 14:42:00</td>\n",
       "      <td>163</td>\n",
       "      <td>2015-07-04</td>\n",
       "      <td>2015-12-15</td>\n",
       "      <td>14:42:00</td>\n",
       "    </tr>\n",
       "    <tr>\n",
       "      <th>2</th>\n",
       "      <td>2015-06-26 09:56:00</td>\n",
       "      <td>2015-12-09 20:45:00</td>\n",
       "      <td>166</td>\n",
       "      <td>2015-06-26</td>\n",
       "      <td>2015-12-09</td>\n",
       "      <td>20:45:00</td>\n",
       "    </tr>\n",
       "    <tr>\n",
       "      <th>3</th>\n",
       "      <td>2015-07-01 01:51:00</td>\n",
       "      <td>2015-12-14 01:43:00</td>\n",
       "      <td>165</td>\n",
       "      <td>2015-07-01</td>\n",
       "      <td>2015-12-14</td>\n",
       "      <td>01:43:00</td>\n",
       "    </tr>\n",
       "    <tr>\n",
       "      <th>4</th>\n",
       "      <td>2015-07-11 18:34:00</td>\n",
       "      <td>2015-12-19 23:26:00</td>\n",
       "      <td>161</td>\n",
       "      <td>2015-07-11</td>\n",
       "      <td>2015-12-19</td>\n",
       "      <td>23:26:00</td>\n",
       "    </tr>\n",
       "  </tbody>\n",
       "</table>\n",
       "</div>"
      ],
      "text/plain": [
       "           first_time         recent_time  membership_days first_order_date  \\\n",
       "0 2015-06-29 10:57:00 2015-12-10 02:18:00              163       2015-06-29   \n",
       "1 2015-07-04 15:39:00 2015-12-15 14:42:00              163       2015-07-04   \n",
       "2 2015-06-26 09:56:00 2015-12-09 20:45:00              166       2015-06-26   \n",
       "3 2015-07-01 01:51:00 2015-12-14 01:43:00              165       2015-07-01   \n",
       "4 2015-07-11 18:34:00 2015-12-19 23:26:00              161       2015-07-11   \n",
       "\n",
       "  recent_order_date recent_order_time  \n",
       "0        2015-12-10          02:18:00  \n",
       "1        2015-12-15          14:42:00  \n",
       "2        2015-12-09          20:45:00  \n",
       "3        2015-12-14          01:43:00  \n",
       "4        2015-12-19          23:26:00  "
      ]
     },
     "execution_count": 18,
     "metadata": {},
     "output_type": "execute_result"
    }
   ],
   "source": [
    "raw_data.head()"
   ]
  },
  {
   "cell_type": "code",
   "execution_count": 19,
   "metadata": {},
   "outputs": [],
   "source": [
    "# drop first_time and recent_time and first_order_date columns\n",
    "raw_data.drop(labels=['first_order_date', 'first_time', 'recent_time'], axis=1, inplace=True)"
   ]
  },
  {
   "cell_type": "markdown",
   "metadata": {},
   "source": [
    "### Create new features from date column"
   ]
  },
  {
   "cell_type": "code",
   "execution_count": 20,
   "metadata": {},
   "outputs": [
    {
     "data": {
      "text/plain": [
       "datetime.datetime(2018, 10, 10, 0, 0)"
      ]
     },
     "execution_count": 20,
     "metadata": {},
     "output_type": "execute_result"
    },
    {
     "data": {
      "text/plain": [
       "2018"
      ]
     },
     "execution_count": 20,
     "metadata": {},
     "output_type": "execute_result"
    },
    {
     "data": {
      "text/plain": [
       "2018"
      ]
     },
     "execution_count": 20,
     "metadata": {},
     "output_type": "execute_result"
    },
    {
     "data": {
      "text/plain": [
       "10"
      ]
     },
     "execution_count": 20,
     "metadata": {},
     "output_type": "execute_result"
    },
    {
     "data": {
      "text/plain": [
       "3"
      ]
     },
     "execution_count": 20,
     "metadata": {},
     "output_type": "execute_result"
    }
   ],
   "source": [
    "# get month, day, year, weekday from a date\n",
    "d = '2018-10-10'\n",
    "# convert a string to datetime object\n",
    "d_date_obj = datetime.strptime(d, '%Y-%m-%d')\n",
    "d_date_obj\n",
    "\n",
    "# get year\n",
    "d_date_obj.year\n",
    "\n",
    "# get month\n",
    "d_date_obj.year\n",
    "\n",
    "# get day\n",
    "d_date_obj.day\n",
    "\n",
    "# get weekday\n",
    "# 1 is Monday, 7 is Sunday\n",
    "d_date_obj.isoweekday()"
   ]
  },
  {
   "cell_type": "code",
   "execution_count": 21,
   "metadata": {},
   "outputs": [],
   "source": [
    "# we will use the above code snippets to create day-of-month, weekday, m\n",
    "# onth, year features from the recent_order_date column"
   ]
  },
  {
   "cell_type": "code",
   "execution_count": 22,
   "metadata": {},
   "outputs": [],
   "source": [
    "raw_data['ro_month'] = raw_data.recent_order_date.apply(func=lambda x: \n",
    "                                                                  datetime.strptime(x, '%Y-%m-%d').month)\n",
    "\n",
    "raw_data['ro_day'] = raw_data.recent_order_date.apply(func=lambda x: \n",
    "                                                                  datetime.strptime(x, '%Y-%m-%d').day)\n",
    "\n",
    "raw_data['ro_year'] = raw_data.recent_order_date.apply(func=lambda x: \n",
    "                                                                  datetime.strptime(x, '%Y-%m-%d').year)\n",
    "\n",
    "\n",
    "raw_data['ro_weekday'] = raw_data.recent_order_date.apply(func=lambda x: \n",
    "                                                                  datetime.strptime(x, '%Y-%m-%d').isoweekday())"
   ]
  },
  {
   "cell_type": "code",
   "execution_count": 23,
   "metadata": {},
   "outputs": [
    {
     "data": {
      "text/html": [
       "<div>\n",
       "<style scoped>\n",
       "    .dataframe tbody tr th:only-of-type {\n",
       "        vertical-align: middle;\n",
       "    }\n",
       "\n",
       "    .dataframe tbody tr th {\n",
       "        vertical-align: top;\n",
       "    }\n",
       "\n",
       "    .dataframe thead th {\n",
       "        text-align: right;\n",
       "    }\n",
       "</style>\n",
       "<table border=\"1\" class=\"dataframe\">\n",
       "  <thead>\n",
       "    <tr style=\"text-align: right;\">\n",
       "      <th></th>\n",
       "      <th>membership_days</th>\n",
       "      <th>recent_order_date</th>\n",
       "      <th>recent_order_time</th>\n",
       "      <th>ro_month</th>\n",
       "      <th>ro_day</th>\n",
       "      <th>ro_year</th>\n",
       "      <th>ro_weekday</th>\n",
       "    </tr>\n",
       "  </thead>\n",
       "  <tbody>\n",
       "    <tr>\n",
       "      <th>0</th>\n",
       "      <td>163</td>\n",
       "      <td>2015-12-10</td>\n",
       "      <td>02:18:00</td>\n",
       "      <td>12</td>\n",
       "      <td>10</td>\n",
       "      <td>2015</td>\n",
       "      <td>4</td>\n",
       "    </tr>\n",
       "    <tr>\n",
       "      <th>1</th>\n",
       "      <td>163</td>\n",
       "      <td>2015-12-15</td>\n",
       "      <td>14:42:00</td>\n",
       "      <td>12</td>\n",
       "      <td>15</td>\n",
       "      <td>2015</td>\n",
       "      <td>2</td>\n",
       "    </tr>\n",
       "    <tr>\n",
       "      <th>2</th>\n",
       "      <td>166</td>\n",
       "      <td>2015-12-09</td>\n",
       "      <td>20:45:00</td>\n",
       "      <td>12</td>\n",
       "      <td>9</td>\n",
       "      <td>2015</td>\n",
       "      <td>3</td>\n",
       "    </tr>\n",
       "    <tr>\n",
       "      <th>3</th>\n",
       "      <td>165</td>\n",
       "      <td>2015-12-14</td>\n",
       "      <td>01:43:00</td>\n",
       "      <td>12</td>\n",
       "      <td>14</td>\n",
       "      <td>2015</td>\n",
       "      <td>1</td>\n",
       "    </tr>\n",
       "    <tr>\n",
       "      <th>4</th>\n",
       "      <td>161</td>\n",
       "      <td>2015-12-19</td>\n",
       "      <td>23:26:00</td>\n",
       "      <td>12</td>\n",
       "      <td>19</td>\n",
       "      <td>2015</td>\n",
       "      <td>6</td>\n",
       "    </tr>\n",
       "  </tbody>\n",
       "</table>\n",
       "</div>"
      ],
      "text/plain": [
       "   membership_days recent_order_date recent_order_time  ro_month  ro_day  \\\n",
       "0              163        2015-12-10          02:18:00        12      10   \n",
       "1              163        2015-12-15          14:42:00        12      15   \n",
       "2              166        2015-12-09          20:45:00        12       9   \n",
       "3              165        2015-12-14          01:43:00        12      14   \n",
       "4              161        2015-12-19          23:26:00        12      19   \n",
       "\n",
       "   ro_year  ro_weekday  \n",
       "0     2015           4  \n",
       "1     2015           2  \n",
       "2     2015           3  \n",
       "3     2015           1  \n",
       "4     2015           6  "
      ]
     },
     "execution_count": 23,
     "metadata": {},
     "output_type": "execute_result"
    }
   ],
   "source": [
    "raw_data.head()"
   ]
  },
  {
   "cell_type": "markdown",
   "metadata": {},
   "source": [
    "### You can also use `recent_order_time` to get an idea what time do people usually order"
   ]
  },
  {
   "cell_type": "code",
   "execution_count": 24,
   "metadata": {},
   "outputs": [],
   "source": [
    "raw_data['ro_time'] = raw_data.recent_order_time.apply(func=lambda x: str(x).split(':')[0])"
   ]
  },
  {
   "cell_type": "code",
   "execution_count": 25,
   "metadata": {},
   "outputs": [
    {
     "data": {
      "text/html": [
       "<div>\n",
       "<style scoped>\n",
       "    .dataframe tbody tr th:only-of-type {\n",
       "        vertical-align: middle;\n",
       "    }\n",
       "\n",
       "    .dataframe tbody tr th {\n",
       "        vertical-align: top;\n",
       "    }\n",
       "\n",
       "    .dataframe thead th {\n",
       "        text-align: right;\n",
       "    }\n",
       "</style>\n",
       "<table border=\"1\" class=\"dataframe\">\n",
       "  <thead>\n",
       "    <tr style=\"text-align: right;\">\n",
       "      <th></th>\n",
       "      <th>membership_days</th>\n",
       "      <th>recent_order_date</th>\n",
       "      <th>recent_order_time</th>\n",
       "      <th>ro_month</th>\n",
       "      <th>ro_day</th>\n",
       "      <th>ro_year</th>\n",
       "      <th>ro_weekday</th>\n",
       "      <th>ro_time</th>\n",
       "    </tr>\n",
       "  </thead>\n",
       "  <tbody>\n",
       "    <tr>\n",
       "      <th>0</th>\n",
       "      <td>163</td>\n",
       "      <td>2015-12-10</td>\n",
       "      <td>02:18:00</td>\n",
       "      <td>12</td>\n",
       "      <td>10</td>\n",
       "      <td>2015</td>\n",
       "      <td>4</td>\n",
       "      <td>02</td>\n",
       "    </tr>\n",
       "    <tr>\n",
       "      <th>1</th>\n",
       "      <td>163</td>\n",
       "      <td>2015-12-15</td>\n",
       "      <td>14:42:00</td>\n",
       "      <td>12</td>\n",
       "      <td>15</td>\n",
       "      <td>2015</td>\n",
       "      <td>2</td>\n",
       "      <td>14</td>\n",
       "    </tr>\n",
       "    <tr>\n",
       "      <th>2</th>\n",
       "      <td>166</td>\n",
       "      <td>2015-12-09</td>\n",
       "      <td>20:45:00</td>\n",
       "      <td>12</td>\n",
       "      <td>9</td>\n",
       "      <td>2015</td>\n",
       "      <td>3</td>\n",
       "      <td>20</td>\n",
       "    </tr>\n",
       "    <tr>\n",
       "      <th>3</th>\n",
       "      <td>165</td>\n",
       "      <td>2015-12-14</td>\n",
       "      <td>01:43:00</td>\n",
       "      <td>12</td>\n",
       "      <td>14</td>\n",
       "      <td>2015</td>\n",
       "      <td>1</td>\n",
       "      <td>01</td>\n",
       "    </tr>\n",
       "    <tr>\n",
       "      <th>4</th>\n",
       "      <td>161</td>\n",
       "      <td>2015-12-19</td>\n",
       "      <td>23:26:00</td>\n",
       "      <td>12</td>\n",
       "      <td>19</td>\n",
       "      <td>2015</td>\n",
       "      <td>6</td>\n",
       "      <td>23</td>\n",
       "    </tr>\n",
       "    <tr>\n",
       "      <th>5</th>\n",
       "      <td>163</td>\n",
       "      <td>2015-11-25</td>\n",
       "      <td>14:01:00</td>\n",
       "      <td>11</td>\n",
       "      <td>25</td>\n",
       "      <td>2015</td>\n",
       "      <td>3</td>\n",
       "      <td>14</td>\n",
       "    </tr>\n",
       "    <tr>\n",
       "      <th>6</th>\n",
       "      <td>152</td>\n",
       "      <td>2015-12-27</td>\n",
       "      <td>05:50:00</td>\n",
       "      <td>12</td>\n",
       "      <td>27</td>\n",
       "      <td>2015</td>\n",
       "      <td>7</td>\n",
       "      <td>05</td>\n",
       "    </tr>\n",
       "    <tr>\n",
       "      <th>7</th>\n",
       "      <td>153</td>\n",
       "      <td>2015-12-25</td>\n",
       "      <td>09:23:00</td>\n",
       "      <td>12</td>\n",
       "      <td>25</td>\n",
       "      <td>2015</td>\n",
       "      <td>5</td>\n",
       "      <td>09</td>\n",
       "    </tr>\n",
       "    <tr>\n",
       "      <th>8</th>\n",
       "      <td>165</td>\n",
       "      <td>2015-12-25</td>\n",
       "      <td>20:47:00</td>\n",
       "      <td>12</td>\n",
       "      <td>25</td>\n",
       "      <td>2015</td>\n",
       "      <td>5</td>\n",
       "      <td>20</td>\n",
       "    </tr>\n",
       "    <tr>\n",
       "      <th>9</th>\n",
       "      <td>162</td>\n",
       "      <td>2015-11-21</td>\n",
       "      <td>02:45:00</td>\n",
       "      <td>11</td>\n",
       "      <td>21</td>\n",
       "      <td>2015</td>\n",
       "      <td>6</td>\n",
       "      <td>02</td>\n",
       "    </tr>\n",
       "  </tbody>\n",
       "</table>\n",
       "</div>"
      ],
      "text/plain": [
       "   membership_days recent_order_date recent_order_time  ro_month  ro_day  \\\n",
       "0              163        2015-12-10          02:18:00        12      10   \n",
       "1              163        2015-12-15          14:42:00        12      15   \n",
       "2              166        2015-12-09          20:45:00        12       9   \n",
       "3              165        2015-12-14          01:43:00        12      14   \n",
       "4              161        2015-12-19          23:26:00        12      19   \n",
       "5              163        2015-11-25          14:01:00        11      25   \n",
       "6              152        2015-12-27          05:50:00        12      27   \n",
       "7              153        2015-12-25          09:23:00        12      25   \n",
       "8              165        2015-12-25          20:47:00        12      25   \n",
       "9              162        2015-11-21          02:45:00        11      21   \n",
       "\n",
       "   ro_year  ro_weekday ro_time  \n",
       "0     2015           4      02  \n",
       "1     2015           2      14  \n",
       "2     2015           3      20  \n",
       "3     2015           1      01  \n",
       "4     2015           6      23  \n",
       "5     2015           3      14  \n",
       "6     2015           7      05  \n",
       "7     2015           5      09  \n",
       "8     2015           5      20  \n",
       "9     2015           6      02  "
      ]
     },
     "execution_count": 25,
     "metadata": {},
     "output_type": "execute_result"
    },
    {
     "data": {
      "text/plain": [
       "membership_days       int64\n",
       "recent_order_date    object\n",
       "recent_order_time    object\n",
       "ro_month              int64\n",
       "ro_day                int64\n",
       "ro_year               int64\n",
       "ro_weekday            int64\n",
       "ro_time              object\n",
       "dtype: object"
      ]
     },
     "execution_count": 25,
     "metadata": {},
     "output_type": "execute_result"
    }
   ],
   "source": [
    "raw_data.head(10)\n",
    "raw_data.dtypes"
   ]
  },
  {
   "cell_type": "code",
   "execution_count": 26,
   "metadata": {},
   "outputs": [
    {
     "data": {
      "text/html": [
       "<div>\n",
       "<style scoped>\n",
       "    .dataframe tbody tr th:only-of-type {\n",
       "        vertical-align: middle;\n",
       "    }\n",
       "\n",
       "    .dataframe tbody tr th {\n",
       "        vertical-align: top;\n",
       "    }\n",
       "\n",
       "    .dataframe thead th {\n",
       "        text-align: right;\n",
       "    }\n",
       "</style>\n",
       "<table border=\"1\" class=\"dataframe\">\n",
       "  <thead>\n",
       "    <tr style=\"text-align: right;\">\n",
       "      <th></th>\n",
       "      <th>membership_days</th>\n",
       "      <th>recent_order_date</th>\n",
       "      <th>recent_order_time</th>\n",
       "      <th>ro_month</th>\n",
       "      <th>ro_day</th>\n",
       "      <th>ro_year</th>\n",
       "      <th>ro_weekday</th>\n",
       "      <th>ro_time</th>\n",
       "    </tr>\n",
       "  </thead>\n",
       "  <tbody>\n",
       "    <tr>\n",
       "      <th>0</th>\n",
       "      <td>163</td>\n",
       "      <td>2015-12-10</td>\n",
       "      <td>02:18:00</td>\n",
       "      <td>12</td>\n",
       "      <td>10</td>\n",
       "      <td>2015</td>\n",
       "      <td>4</td>\n",
       "      <td>2</td>\n",
       "    </tr>\n",
       "    <tr>\n",
       "      <th>1</th>\n",
       "      <td>163</td>\n",
       "      <td>2015-12-15</td>\n",
       "      <td>14:42:00</td>\n",
       "      <td>12</td>\n",
       "      <td>15</td>\n",
       "      <td>2015</td>\n",
       "      <td>2</td>\n",
       "      <td>14</td>\n",
       "    </tr>\n",
       "    <tr>\n",
       "      <th>2</th>\n",
       "      <td>166</td>\n",
       "      <td>2015-12-09</td>\n",
       "      <td>20:45:00</td>\n",
       "      <td>12</td>\n",
       "      <td>9</td>\n",
       "      <td>2015</td>\n",
       "      <td>3</td>\n",
       "      <td>20</td>\n",
       "    </tr>\n",
       "    <tr>\n",
       "      <th>3</th>\n",
       "      <td>165</td>\n",
       "      <td>2015-12-14</td>\n",
       "      <td>01:43:00</td>\n",
       "      <td>12</td>\n",
       "      <td>14</td>\n",
       "      <td>2015</td>\n",
       "      <td>1</td>\n",
       "      <td>1</td>\n",
       "    </tr>\n",
       "    <tr>\n",
       "      <th>4</th>\n",
       "      <td>161</td>\n",
       "      <td>2015-12-19</td>\n",
       "      <td>23:26:00</td>\n",
       "      <td>12</td>\n",
       "      <td>19</td>\n",
       "      <td>2015</td>\n",
       "      <td>6</td>\n",
       "      <td>23</td>\n",
       "    </tr>\n",
       "  </tbody>\n",
       "</table>\n",
       "</div>"
      ],
      "text/plain": [
       "   membership_days recent_order_date recent_order_time  ro_month  ro_day  \\\n",
       "0              163        2015-12-10          02:18:00        12      10   \n",
       "1              163        2015-12-15          14:42:00        12      15   \n",
       "2              166        2015-12-09          20:45:00        12       9   \n",
       "3              165        2015-12-14          01:43:00        12      14   \n",
       "4              161        2015-12-19          23:26:00        12      19   \n",
       "\n",
       "   ro_year  ro_weekday  ro_time  \n",
       "0     2015           4        2  \n",
       "1     2015           2       14  \n",
       "2     2015           3       20  \n",
       "3     2015           1        1  \n",
       "4     2015           6       23  "
      ]
     },
     "execution_count": 26,
     "metadata": {},
     "output_type": "execute_result"
    }
   ],
   "source": [
    "# converting the type of ro_time column from object to type int\n",
    "raw_data['ro_time'] = raw_data['ro_time'].astype(str).astype(int)\n",
    "raw_data.head()"
   ]
  },
  {
   "cell_type": "code",
   "execution_count": 28,
   "metadata": {},
   "outputs": [],
   "source": [
    "def get_time_of_day(x):\n",
    "    if (x > 5) & (x <= 11):\n",
    "        time_of_day = 'morning'\n",
    "    elif (x > 11) & (x <= 15):\n",
    "        time_of_day = 'afternoon'\n",
    "    elif (x > 15) & (x <= 19):\n",
    "        time_of_day = 'evening'\n",
    "    elif (x > 19) & (x <= 23):\n",
    "        time_of_day = 'night'\n",
    "    else:\n",
    "        time_of_day = 'late_night'\n",
    "    \n",
    "    return time_of_day\n",
    "        "
   ]
  },
  {
   "cell_type": "code",
   "execution_count": 29,
   "metadata": {},
   "outputs": [],
   "source": [
    "raw_data['ro_day_time'] = raw_data.ro_time.apply(func=get_time_of_day)"
   ]
  },
  {
   "cell_type": "code",
   "execution_count": 30,
   "metadata": {},
   "outputs": [
    {
     "data": {
      "text/html": [
       "<div>\n",
       "<style scoped>\n",
       "    .dataframe tbody tr th:only-of-type {\n",
       "        vertical-align: middle;\n",
       "    }\n",
       "\n",
       "    .dataframe tbody tr th {\n",
       "        vertical-align: top;\n",
       "    }\n",
       "\n",
       "    .dataframe thead th {\n",
       "        text-align: right;\n",
       "    }\n",
       "</style>\n",
       "<table border=\"1\" class=\"dataframe\">\n",
       "  <thead>\n",
       "    <tr style=\"text-align: right;\">\n",
       "      <th></th>\n",
       "      <th>membership_days</th>\n",
       "      <th>recent_order_date</th>\n",
       "      <th>recent_order_time</th>\n",
       "      <th>ro_month</th>\n",
       "      <th>ro_day</th>\n",
       "      <th>ro_year</th>\n",
       "      <th>ro_weekday</th>\n",
       "      <th>ro_time</th>\n",
       "      <th>ro_day_time</th>\n",
       "    </tr>\n",
       "  </thead>\n",
       "  <tbody>\n",
       "    <tr>\n",
       "      <th>0</th>\n",
       "      <td>163</td>\n",
       "      <td>2015-12-10</td>\n",
       "      <td>02:18:00</td>\n",
       "      <td>12</td>\n",
       "      <td>10</td>\n",
       "      <td>2015</td>\n",
       "      <td>4</td>\n",
       "      <td>2</td>\n",
       "      <td>late_night</td>\n",
       "    </tr>\n",
       "    <tr>\n",
       "      <th>1</th>\n",
       "      <td>163</td>\n",
       "      <td>2015-12-15</td>\n",
       "      <td>14:42:00</td>\n",
       "      <td>12</td>\n",
       "      <td>15</td>\n",
       "      <td>2015</td>\n",
       "      <td>2</td>\n",
       "      <td>14</td>\n",
       "      <td>afternoon</td>\n",
       "    </tr>\n",
       "    <tr>\n",
       "      <th>2</th>\n",
       "      <td>166</td>\n",
       "      <td>2015-12-09</td>\n",
       "      <td>20:45:00</td>\n",
       "      <td>12</td>\n",
       "      <td>9</td>\n",
       "      <td>2015</td>\n",
       "      <td>3</td>\n",
       "      <td>20</td>\n",
       "      <td>night</td>\n",
       "    </tr>\n",
       "    <tr>\n",
       "      <th>3</th>\n",
       "      <td>165</td>\n",
       "      <td>2015-12-14</td>\n",
       "      <td>01:43:00</td>\n",
       "      <td>12</td>\n",
       "      <td>14</td>\n",
       "      <td>2015</td>\n",
       "      <td>1</td>\n",
       "      <td>1</td>\n",
       "      <td>late_night</td>\n",
       "    </tr>\n",
       "    <tr>\n",
       "      <th>4</th>\n",
       "      <td>161</td>\n",
       "      <td>2015-12-19</td>\n",
       "      <td>23:26:00</td>\n",
       "      <td>12</td>\n",
       "      <td>19</td>\n",
       "      <td>2015</td>\n",
       "      <td>6</td>\n",
       "      <td>23</td>\n",
       "      <td>night</td>\n",
       "    </tr>\n",
       "  </tbody>\n",
       "</table>\n",
       "</div>"
      ],
      "text/plain": [
       "   membership_days recent_order_date recent_order_time  ro_month  ro_day  \\\n",
       "0              163        2015-12-10          02:18:00        12      10   \n",
       "1              163        2015-12-15          14:42:00        12      15   \n",
       "2              166        2015-12-09          20:45:00        12       9   \n",
       "3              165        2015-12-14          01:43:00        12      14   \n",
       "4              161        2015-12-19          23:26:00        12      19   \n",
       "\n",
       "   ro_year  ro_weekday  ro_time ro_day_time  \n",
       "0     2015           4        2  late_night  \n",
       "1     2015           2       14   afternoon  \n",
       "2     2015           3       20       night  \n",
       "3     2015           1        1  late_night  \n",
       "4     2015           6       23       night  "
      ]
     },
     "execution_count": 30,
     "metadata": {},
     "output_type": "execute_result"
    }
   ],
   "source": [
    "raw_data.head()"
   ]
  },
  {
   "cell_type": "code",
   "execution_count": 31,
   "metadata": {},
   "outputs": [
    {
     "data": {
      "text/plain": [
       "morning       2550\n",
       "late_night    2486\n",
       "evening       1684\n",
       "night         1667\n",
       "afternoon     1613\n",
       "Name: ro_day_time, dtype: int64"
      ]
     },
     "execution_count": 31,
     "metadata": {},
     "output_type": "execute_result"
    },
    {
     "data": {
      "text/plain": [
       "Index(['morning', 'late_night', 'evening', 'night', 'afternoon'], dtype='object')"
      ]
     },
     "execution_count": 31,
     "metadata": {},
     "output_type": "execute_result"
    },
    {
     "data": {
      "text/plain": [
       "array([2550, 2486, 1684, 1667, 1613])"
      ]
     },
     "execution_count": 31,
     "metadata": {},
     "output_type": "execute_result"
    }
   ],
   "source": [
    "ro_day_time_grp_cnt = raw_data.ro_day_time.value_counts()\n",
    "ro_day_time_grp_cnt\n",
    "# ro_day_time_grp_cnt.index\n",
    "# ro_day_time_grp_cnt.values"
   ]
  },
  {
   "cell_type": "code",
   "execution_count": 44,
   "metadata": {},
   "outputs": [
    {
     "data": {
      "text/plain": [
       "<matplotlib.axes._subplots.AxesSubplot at 0x116a61630>"
      ]
     },
     "execution_count": 44,
     "metadata": {},
     "output_type": "execute_result"
    },
    {
     "data": {
      "image/png": "[encoded data removed]",
      "text/plain": [
       "<matplotlib.figure.Figure at 0x116a473c8>"
      ]
     },
     "metadata": {},
     "output_type": "display_data"
    }
   ],
   "source": [
    "sns.barplot(x = ro_day_time_grp_cnt.index, \n",
    "            y=ro_day_time_grp_cnt.values, order = ['morning', 'afternoon', \n",
    "                                                   'evening' , 'night', 'late_night'])"
   ]
  },
  {
   "cell_type": "code",
   "execution_count": 33,
   "metadata": {},
   "outputs": [],
   "source": [
    "# now that we have extracted features from date column we will drop recent_order_date column\n",
    "raw_data.drop(labels=['recent_order_date', 'recent_order_time'], axis=1, inplace=True)"
   ]
  },
  {
   "cell_type": "code",
   "execution_count": 34,
   "metadata": {},
   "outputs": [],
   "source": [
    "# we can now classify users based on how long they have been in our system. This was possible by\n",
    "# taking the difference between the date columns"
   ]
  },
  {
   "cell_type": "code",
   "execution_count": 35,
   "metadata": {},
   "outputs": [],
   "source": [
    "def get_user_type(x):\n",
    "    if x <= 30:\n",
    "        user_type = 'new_user'\n",
    "    elif (x > 30) & (x <= 90):\n",
    "        user_type = 'quite_sometime_user'\n",
    "    else:\n",
    "        user_type = 'old_user'\n",
    "    return user_type"
   ]
  },
  {
   "cell_type": "code",
   "execution_count": 36,
   "metadata": {},
   "outputs": [],
   "source": [
    "raw_data['user_type'] = raw_data.membership_days.apply(func=get_user_type)"
   ]
  },
  {
   "cell_type": "code",
   "execution_count": 38,
   "metadata": {},
   "outputs": [
    {
     "data": {
      "text/plain": [
       "new_user               5418\n",
       "old_user               2689\n",
       "quite_sometime_user    1893\n",
       "Name: user_type, dtype: int64"
      ]
     },
     "execution_count": 38,
     "metadata": {},
     "output_type": "execute_result"
    },
    {
     "data": {
      "text/plain": [
       "new_user               0.5418\n",
       "old_user               0.2689\n",
       "quite_sometime_user    0.1893\n",
       "Name: user_type, dtype: float64"
      ]
     },
     "execution_count": 38,
     "metadata": {},
     "output_type": "execute_result"
    }
   ],
   "source": [
    "user_type_grp_cnt = raw_data.user_type.value_counts()\n",
    "user_type_grp_cnt\n",
    "raw_data.user_type.value_counts(normalize=True)\n",
    "# more than 50% of users are new users in the data"
   ]
  },
  {
   "cell_type": "code",
   "execution_count": 42,
   "metadata": {},
   "outputs": [
    {
     "data": {
      "text/plain": [
       "<matplotlib.axes._subplots.AxesSubplot at 0x116a2a240>"
      ]
     },
     "execution_count": 42,
     "metadata": {},
     "output_type": "execute_result"
    },
    {
     "data": {
      "image/png": "[encoded data removed]",
      "text/plain": [
       "<matplotlib.figure.Figure at 0x116a53080>"
      ]
     },
     "metadata": {},
     "output_type": "display_data"
    }
   ],
   "source": [
    "sns.barplot(x = user_type_grp_cnt.index, y = user_type_grp_cnt.values, estimator=np.median)"
   ]
  }
 ],
 "metadata": {
  "kernelspec": {
   "display_name": "Python 3",
   "language": "python",
   "name": "python3"
  },
  "language_info": {
   "codemirror_mode": {
    "name": "ipython",
    "version": 3
   },
   "file_extension": ".py",
   "mimetype": "text/x-python",
   "name": "python",
   "nbconvert_exporter": "python",
   "pygments_lexer": "ipython3",
   "version": "3.4.3"
  }
 },
 "nbformat": 4,
 "nbformat_minor": 2
}
